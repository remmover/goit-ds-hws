{
 "cells": [
  {
   "metadata": {},
   "cell_type": "code",
   "outputs": [],
   "execution_count": null,
   "source": [
    "from surprise import accuracy\n",
    "from surprise import SVD, SVDpp, NMF\n",
    "from surprise import Dataset\n",
    "from surprise.model_selection import cross_validate, GridSearchCV"
   ],
   "id": "947b9ba418835eab"
  },
  {
   "metadata": {},
   "cell_type": "code",
   "outputs": [],
   "execution_count": null,
   "source": [
    "# Load the movielens-100k dataset (download it if needed).\n",
    "data = Dataset.load_builtin('ml-100k')\n",
    "\n",
    "# Крос-валідація для оцінки моделі SVD\n",
    "algo = SVD()\n",
    "\n",
    "# Run 5-fold cross-validation and print results.\n",
    "cross_validate(algo, data, measures=['RMSE', 'MAE'], cv=5, verbose=True)"
   ],
   "id": "a4885e15c4255c91"
  },
  {
   "metadata": {},
   "cell_type": "code",
   "outputs": [],
   "execution_count": null,
   "source": [
    "# Крос-валідація для оцінки моделі SVDpp\n",
    "algo = SVDpp()\n",
    "cross_validate(algo, data, measures=['RMSE', 'MAE'], cv=5, verbose=True)"
   ],
   "id": "31e265d90dd449b6"
  },
  {
   "metadata": {},
   "cell_type": "code",
   "outputs": [],
   "execution_count": null,
   "source": [
    "nmf = NMF()\n",
    "# Крос-валідація для оцінки моделі NMF\n",
    "results_nmf = cross_validate(nmf, data, measures=['RMSE', 'MAE'], cv=5, verbose=True)"
   ],
   "id": "25e64bd27085f70c"
  },
  {
   "metadata": {},
   "cell_type": "code",
   "outputs": [],
   "execution_count": null,
   "source": [
    "# Параметри для пошуку для SVD та SVD++\n",
    "param_grid = {\n",
    "    'n_factors': [50, 100, 150],\n",
    "    'lr_all': [0.002, 0.005, 0.01],\n",
    "    'reg_all': [0.02, 0.05, 0.1]\n",
    "}"
   ],
   "id": "3c831c73bf2bbbc4"
  },
  {
   "metadata": {},
   "cell_type": "code",
   "outputs": [],
   "execution_count": null,
   "source": [
    "# Застосуємо GridSearchCV для пошуку оптимальних параметрів для SVD\n",
    "grid_search_svd = GridSearchCV(SVD, param_grid, measures=['RMSE'], cv=3)\n",
    "grid_search_svd.fit(data)\n",
    "\n",
    "# Найкращі параметри для SVD\n",
    "print(\"Best parameters for SVD:\", grid_search_svd.best_params['rmse'])\n",
    "print(\"Best RMSE for SVD:\", grid_search_svd.best_score['rmse'])"
   ],
   "id": "f344288df908dd6c"
  },
  {
   "metadata": {},
   "cell_type": "code",
   "outputs": [],
   "execution_count": null,
   "source": [
    "# SVD++\n",
    "grid_search_svdpp = GridSearchCV(SVDpp, param_grid, measures=['RMSE'], cv=2, n_jobs=-1)\n",
    "grid_search_svdpp.fit(data)\n",
    "\n",
    "# Найкращі параметри для SVD++\n",
    "print(\"Best parameters for SVD++:\", grid_search_svdpp.best_params['rmse'])\n",
    "print(\"Best RMSE for SVD++:\", grid_search_svdpp.best_score['rmse'])"
   ],
   "id": "7e994f7e4df7eb9d"
  },
  {
   "metadata": {},
   "cell_type": "code",
   "outputs": [],
   "execution_count": null,
   "source": [
    "# Для NMF\n",
    "param_grid_nmf = {\n",
    "    'n_factors': [50, 100, 150],  # кількість латентних факторів\n",
    "    'n_epochs': [20, 30, 40],     # кількість епох\n",
    "    'reg_pu': [0.02, 0.1],        # регуляризація для факторів користувачів\n",
    "    'reg_qi': [0.02, 0.1]         # регуляризація для факторів предметів\n",
    "}\n",
    "\n",
    "grid_search_nmf = GridSearchCV(NMF, param_grid_nmf, measures=['RMSE'], cv=3)\n",
    "grid_search_nmf.fit(data)\n",
    "\n",
    "# Найкращі параметри для NMF\n",
    "print(\"Best parameters for NMF:\", grid_search_nmf.best_params['rmse'])\n",
    "print(\"Best RMSE for NMF:\", grid_search_nmf.best_score['rmse'])"
   ],
   "id": "11b92b11e651b5af"
  },
  {
   "metadata": {},
   "cell_type": "code",
   "outputs": [],
   "execution_count": null,
   "source": [
    "#Best parameters for SVD: {'n_factors': 150, 'n_epochs': 40, 'lr_all': 0.005, 'reg_all': 0.1}\n",
    "best_svd = SVD(n_factors=150, n_epochs=40, lr_all=0.005, reg_all=0.1)\n",
    "best_svd.fit(data.build_full_trainset())\n",
    "\n",
    "# Оцінка точності на тестових даних\n",
    "testset = data.build_full_trainset().build_testset()\n",
    "predictions = best_svd.test(testset)\n",
    "\n",
    "# Підрахуємо RMSE на тестових даних\n",
    "rmse = accuracy.rmse(predictions)\n",
    "print(\"Test RMSE for the best SVD model:\", rmse)"
   ],
   "id": "1f41b7c8caff3d3f"
  },
  {
   "metadata": {},
   "cell_type": "code",
   "outputs": [],
   "execution_count": null,
   "source": [
    "#Best parameters for SVD++: {'n_factors': 50, 'n_epochs': 20, 'lr_all': 0.005, 'reg_all': 0.02}\n",
    "best_svd = SVDpp(n_factors=50, n_epochs=20, lr_all=0.005, reg_all=0.02)\n",
    "best_svd.fit(data.build_full_trainset())\n",
    "\n",
    "# Оцінка точності на тестових даних\n",
    "testset = data.build_full_trainset().build_testset()\n",
    "predictions = best_svd.test(testset)\n",
    "\n",
    "# Підрахуємо RMSE на тестових даних\n",
    "rmse = accuracy.rmse(predictions)\n",
    "print(\"Test RMSE for the best SVD model:\", rmse)"
   ],
   "id": "7474bf5330ab62a9"
  },
  {
   "metadata": {},
   "cell_type": "markdown",
   "source": [
    "SVD показала найкращий результат за RMSE = 0.9263\n",
    "SVD++ показав RMSE на етапі крос-валідації = 0.9199\n",
    "NMF показала найгірші результати за RMSE = 0.9594\n",
    "\n",
    "після навчання накращі результати показала модель SVD++\n",
    "Для SVD: RMSE = 0.7829\n",
    "Для SVD++: RMSE = 0.7400\n",
    "Тож модель SVD++ виявилася більш ефективною на тестовому наборі"
   ],
   "id": "b6f013583bcf103f"
  }
 ],
 "metadata": {
  "kernelspec": {
   "display_name": "Python 3",
   "language": "python",
   "name": "python3"
  },
  "language_info": {
   "codemirror_mode": {
    "name": "ipython",
    "version": 2
   },
   "file_extension": ".py",
   "mimetype": "text/x-python",
   "name": "python",
   "nbconvert_exporter": "python",
   "pygments_lexer": "ipython2",
   "version": "2.7.6"
  }
 },
 "nbformat": 4,
 "nbformat_minor": 5
}
