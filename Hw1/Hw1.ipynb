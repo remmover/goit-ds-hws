{
 "cells": [
  {
   "metadata": {
    "ExecuteTime": {
     "end_time": "2025-02-22T12:20:22.110606Z",
     "start_time": "2025-02-22T12:20:21.744284Z"
    }
   },
   "cell_type": "code",
   "source": [
    "# Import the numpy library\n",
    "import numpy as np\n"
   ],
   "id": "2badad4d23f5d6c1",
   "outputs": [],
   "execution_count": 1
  },
  {
   "metadata": {
    "ExecuteTime": {
     "end_time": "2025-02-22T12:20:22.113781Z",
     "start_time": "2025-02-22T12:20:22.111519Z"
    }
   },
   "cell_type": "code",
   "source": [
    "# Task 1: Create an array of natural numbers from 1 to 10\n",
    "vector_10 = np.arange(1, 11)\n",
    "print(\"One-dimensional array (first 10 natural numbers):\")\n",
    "print(vector_10)\n"
   ],
   "id": "a027a0413930c9f1",
   "outputs": [
    {
     "name": "stdout",
     "output_type": "stream",
     "text": [
      "One-dimensional array (first 10 natural numbers):\n",
      "[ 1  2  3  4  5  6  7  8  9 10]\n"
     ]
    }
   ],
   "execution_count": 2
  },
  {
   "metadata": {
    "ExecuteTime": {
     "end_time": "2025-02-22T12:20:22.116450Z",
     "start_time": "2025-02-22T12:20:22.114408Z"
    }
   },
   "cell_type": "code",
   "source": [
    "# Task 2: Create a 3x3 matrix filled with zeros\n",
    "matrix_3x3 = np.zeros((3, 3), dtype=int)\n",
    "print(\"3x3 matrix filled with zeros:\")\n",
    "print(matrix_3x3)\n"
   ],
   "id": "edee6fa996a171d8",
   "outputs": [
    {
     "name": "stdout",
     "output_type": "stream",
     "text": [
      "3x3 matrix filled with zeros:\n",
      "[[0 0 0]\n",
      " [0 0 0]\n",
      " [0 0 0]]\n"
     ]
    }
   ],
   "execution_count": 3
  },
  {
   "metadata": {
    "ExecuteTime": {
     "end_time": "2025-02-22T12:20:23.247273Z",
     "start_time": "2025-02-22T12:20:22.117774Z"
    }
   },
   "cell_type": "code",
   "source": [
    "# Task 3: Create a 5x5 matrix with random integers from 1 to 10\n",
    "matrix_5x5 = np.random.randint(1, 11, size=(5, 5))\n",
    "print(\"5x5 matrix with random integers from 1 to 10:\")\n",
    "print(matrix_5x5)\n"
   ],
   "id": "cb9c71c17a3366c7",
   "outputs": [
    {
     "name": "stdout",
     "output_type": "stream",
     "text": [
      "5x5 matrix with random integers from 1 to 10:\n",
      "[[ 1  4  3  8  8]\n",
      " [ 9  3  3  8  3]\n",
      " [ 8  8  6  9  1]\n",
      " [ 1  9 10  2  2]\n",
      " [ 2  9  8  6  8]]\n"
     ]
    }
   ],
   "execution_count": 4
  },
  {
   "metadata": {
    "ExecuteTime": {
     "end_time": "2025-02-22T12:20:23.251499Z",
     "start_time": "2025-02-22T12:20:23.247926Z"
    }
   },
   "cell_type": "code",
   "source": [
    "# Task 4: Create a 4x4 matrix with random floats from 0 to 1\n",
    "matrix_4x4 = np.random.rand(4, 4)\n",
    "print(\"4x4 matrix with random floats between 0 and 1:\")\n",
    "print(matrix_4x4)\n"
   ],
   "id": "c91ec7e5ba0c651a",
   "outputs": [
    {
     "name": "stdout",
     "output_type": "stream",
     "text": [
      "4x4 matrix with random floats between 0 and 1:\n",
      "[[0.61446398 0.5109793  0.09767252 0.88931283]\n",
      " [0.77855701 0.70047891 0.61695315 0.33975529]\n",
      " [0.80946326 0.9636937  0.84669108 0.55355488]\n",
      " [0.38766902 0.04940372 0.33189721 0.95702212]]\n"
     ]
    }
   ],
   "execution_count": 5
  },
  {
   "metadata": {
    "ExecuteTime": {
     "end_time": "2025-02-22T12:20:23.256557Z",
     "start_time": "2025-02-22T12:20:23.251985Z"
    }
   },
   "cell_type": "code",
   "source": [
    "# Task 5: Create two vectors of size 5 with random integers from 1 to 10\n",
    "array1 = np.random.randint(1, 11, size=5)\n",
    "array2 = np.random.randint(1, 11, size=5)\n",
    "\n",
    "print(\"First vector:\")\n",
    "print(array1)\n",
    "print(\"Second vector:\")\n",
    "print(array2)\n",
    "\n",
    "# Element-wise operations\n",
    "addition = array1 + array2\n",
    "subtraction = array1 - array2\n",
    "multiplication = array1 * array2\n",
    "\n",
    "print(\"Element-wise addition (array1 + array2):\")\n",
    "print(addition)\n",
    "print(\"Element-wise subtraction (array1 - array2):\")\n",
    "print(subtraction)\n",
    "print(\"Element-wise multiplication (array1 * array2):\")\n",
    "print(multiplication)\n"
   ],
   "id": "22fa7f92673b677f",
   "outputs": [
    {
     "name": "stdout",
     "output_type": "stream",
     "text": [
      "First vector:\n",
      "[3 6 3 6 8]\n",
      "Second vector:\n",
      "[5 9 3 2 2]\n",
      "Element-wise addition (array1 + array2):\n",
      "[ 8 15  6  8 10]\n",
      "Element-wise subtraction (array1 - array2):\n",
      "[-2 -3  0  4  6]\n",
      "Element-wise multiplication (array1 * array2):\n",
      "[15 54  9 12 16]\n"
     ]
    }
   ],
   "execution_count": 6
  },
  {
   "metadata": {
    "ExecuteTime": {
     "end_time": "2025-02-22T12:20:23.261300Z",
     "start_time": "2025-02-22T12:20:23.257663Z"
    }
   },
   "cell_type": "code",
   "source": [
    "# Task 6: Create two vectors of size 7 with random floats\n",
    "vec1 = np.random.rand(7)\n",
    "vec2 = np.random.rand(7)\n",
    "\n",
    "print(\"First vector (size 7):\")\n",
    "print(vec1)\n",
    "print(\"Second vector (size 7):\")\n",
    "print(vec2)\n",
    "\n",
    "# Calculate the dot product\n",
    "scalar_product = np.dot(vec1, vec2)\n",
    "print(\"Dot (scalar) product of the vectors:\")\n",
    "print(scalar_product)\n"
   ],
   "id": "c7f9159ca34a639c",
   "outputs": [
    {
     "name": "stdout",
     "output_type": "stream",
     "text": [
      "First vector (size 7):\n",
      "[0.04550056 0.01909403 0.9906668  0.15514504 0.68747048 0.26233706\n",
      " 0.6893059 ]\n",
      "Second vector (size 7):\n",
      "[0.83014052 0.04357915 0.60668763 0.52563787 0.41360582 0.72597454\n",
      " 0.93226504]\n",
      "Dot (scalar) product of the vectors:\n",
      "1.8385869741041363\n"
     ]
    }
   ],
   "execution_count": 7
  },
  {
   "metadata": {
    "ExecuteTime": {
     "end_time": "2025-02-22T12:20:23.263942Z",
     "start_time": "2025-02-22T12:20:23.261820Z"
    }
   },
   "cell_type": "code",
   "source": [
    "# Task 7: Create a 2x2 matrix and a 2x3 matrix with random integers from 1 to 10\n",
    "mat_2x2 = np.random.randint(1, 11, size=(2, 2))\n",
    "mat_2x3 = np.random.randint(1, 11, size=(2, 3))\n",
    "\n",
    "print(\"2x2 matrix:\")\n",
    "print(mat_2x2)\n",
    "print(\"2x3 matrix:\")\n",
    "print(mat_2x3)\n",
    "\n",
    "# Multiply the 2x2 matrix with the 2x3 matrix (resulting in a 2x3 matrix)\n",
    "product_7 = np.dot(mat_2x2, mat_2x3)\n",
    "print(\"Result of multiplying 2x2 and 2x3 matrices:\")\n",
    "print(product_7)\n"
   ],
   "id": "d63b9045201cb13b",
   "outputs": [
    {
     "name": "stdout",
     "output_type": "stream",
     "text": [
      "2x2 matrix:\n",
      "[[2 8]\n",
      " [6 4]]\n",
      "2x3 matrix:\n",
      "[[6 2 6]\n",
      " [8 3 2]]\n",
      "Result of multiplying 2x2 and 2x3 matrices:\n",
      "[[76 28 28]\n",
      " [68 24 44]]\n"
     ]
    }
   ],
   "execution_count": 8
  },
  {
   "metadata": {
    "ExecuteTime": {
     "end_time": "2025-02-22T12:20:23.266523Z",
     "start_time": "2025-02-22T12:20:23.264434Z"
    }
   },
   "cell_type": "code",
   "source": [
    "# Task 8: Create a 3x3 matrix with random integers from 1 to 10\n",
    "matrix_3x3_rand = np.random.randint(1, 11, size=(3, 3))\n",
    "print(\"3x3 matrix:\")\n",
    "print(matrix_3x3_rand)\n",
    "\n",
    "# Calculate the inverse of the matrix (if it is non-singular)\n",
    "try:\n",
    "    inv_matrix = np.linalg.inv(matrix_3x3_rand)\n",
    "    print(\"Inverse matrix:\")\n",
    "    print(inv_matrix)\n",
    "except np.linalg.LinAlgError:\n",
    "    print(\"The matrix is singular and does not have an inverse.\")\n"
   ],
   "id": "386aef723b69ff4b",
   "outputs": [
    {
     "name": "stdout",
     "output_type": "stream",
     "text": [
      "3x3 matrix:\n",
      "[[ 9  1  9]\n",
      " [ 4 10  6]\n",
      " [ 1  9  8]]\n",
      "Inverse matrix:\n",
      "[[ 0.05882353  0.16515837 -0.19004525]\n",
      " [-0.05882353  0.14253394 -0.04072398]\n",
      " [ 0.05882353 -0.18099548  0.19457014]]\n"
     ]
    }
   ],
   "execution_count": 9
  },
  {
   "metadata": {
    "ExecuteTime": {
     "end_time": "2025-02-22T12:20:23.271495Z",
     "start_time": "2025-02-22T12:20:23.268629Z"
    }
   },
   "cell_type": "code",
   "source": [
    "# Task 9: Create a 4x4 matrix with random floats from 0 to 1\n",
    "matrix_4x4_rand = np.random.rand(4, 4)\n",
    "print(\"4x4 matrix:\")\n",
    "print(matrix_4x4_rand)\n",
    "\n",
    "# Transpose the matrix\n",
    "transpose_9 = matrix_4x4_rand.T\n",
    "print(\"Transposed matrix:\")\n",
    "print(transpose_9)\n"
   ],
   "id": "bd12af8638a49a93",
   "outputs": [
    {
     "name": "stdout",
     "output_type": "stream",
     "text": [
      "4x4 matrix:\n",
      "[[0.2151746  0.02566071 0.17778754 0.1159069 ]\n",
      " [0.52581659 0.43583462 0.2816181  0.65346429]\n",
      " [0.98874515 0.80984182 0.64474654 0.36425547]\n",
      " [0.85609444 0.08814351 0.72981363 0.10089888]]\n",
      "Transposed matrix:\n",
      "[[0.2151746  0.52581659 0.98874515 0.85609444]\n",
      " [0.02566071 0.43583462 0.80984182 0.08814351]\n",
      " [0.17778754 0.2816181  0.64474654 0.72981363]\n",
      " [0.1159069  0.65346429 0.36425547 0.10089888]]\n"
     ]
    }
   ],
   "execution_count": 10
  },
  {
   "metadata": {
    "ExecuteTime": {
     "end_time": "2025-02-22T12:20:23.275591Z",
     "start_time": "2025-02-22T12:20:23.272419Z"
    }
   },
   "cell_type": "code",
   "source": [
    "# Task 10: Create a 3x4 matrix and a vector of size 4 with random integers from 1 to 10\n",
    "matrix_3x4 = np.random.randint(1, 11, size=(3, 4))\n",
    "vector_4 = np.random.randint(1, 11, size=4)\n",
    "\n",
    "print(\"3x4 matrix:\")\n",
    "print(matrix_3x4)\n",
    "print(\"Vector (size 4):\")\n",
    "print(vector_4)\n",
    "\n",
    "# Multiply the matrix by the vector (resulting in a vector of size 3)\n",
    "result_10 = np.dot(matrix_3x4, vector_4)\n",
    "print(\"Result of multiplying the matrix by the vector:\")\n",
    "print(result_10)\n"
   ],
   "id": "fe362f78a3d2050d",
   "outputs": [
    {
     "name": "stdout",
     "output_type": "stream",
     "text": [
      "3x4 matrix:\n",
      "[[ 6  2  8  1]\n",
      " [ 6  2  3  9]\n",
      " [ 7 10  2  5]]\n",
      "Vector (size 4):\n",
      "[7 3 4 1]\n",
      "Result of multiplying the matrix by the vector:\n",
      "[81 69 92]\n"
     ]
    }
   ],
   "execution_count": 11
  },
  {
   "metadata": {
    "ExecuteTime": {
     "end_time": "2025-02-22T12:20:23.278727Z",
     "start_time": "2025-02-22T12:20:23.276261Z"
    }
   },
   "cell_type": "code",
   "source": [
    "# Task 11: Create a 2x3 matrix and a vector of size 3 with random floats from 0 to 1\n",
    "matrix_2x3 = np.random.rand(2, 3)\n",
    "vector_3 = np.random.rand(3)\n",
    "\n",
    "print(\"2x3 matrix:\")\n",
    "print(matrix_2x3)\n",
    "print(\"Vector (size 3):\")\n",
    "print(vector_3)\n",
    "\n",
    "# Multiply the matrix by the vector (resulting in a vector of size 2)\n",
    "result_11 = np.dot(matrix_2x3, vector_3)\n",
    "print(\"Result of multiplying the matrix by the vector:\")\n",
    "print(result_11)\n"
   ],
   "id": "d6df8e92d91197e8",
   "outputs": [
    {
     "name": "stdout",
     "output_type": "stream",
     "text": [
      "2x3 matrix:\n",
      "[[0.46968807 0.75229561 0.925076  ]\n",
      " [0.55734139 0.55305126 0.42498568]]\n",
      "Vector (size 3):\n",
      "[0.04626568 0.44991155 0.26045001]\n",
      "Result of multiplying the matrix by the vector:\n",
      "[0.60113297 0.38529745]\n"
     ]
    }
   ],
   "execution_count": 12
  },
  {
   "metadata": {
    "ExecuteTime": {
     "end_time": "2025-02-22T12:20:23.282334Z",
     "start_time": "2025-02-22T12:20:23.279624Z"
    }
   },
   "cell_type": "code",
   "source": [
    "# Task 12: Create two 2x2 matrices with random integers from 1 to 10\n",
    "mat_a = np.random.randint(1, 11, size=(2, 2))\n",
    "mat_b = np.random.randint(1, 11, size=(2, 2))\n",
    "\n",
    "print(\"Matrix A:\")\n",
    "print(mat_a)\n",
    "print(\"Matrix B:\")\n",
    "print(mat_b)\n",
    "\n",
    "# Element-wise multiplication of the matrices\n",
    "elementwise_product = np.multiply(mat_a, mat_b)\n",
    "print(\"Element-wise product of matrices A and B:\")\n",
    "print(elementwise_product)\n"
   ],
   "id": "9f68e1c2ef508ffd",
   "outputs": [
    {
     "name": "stdout",
     "output_type": "stream",
     "text": [
      "Matrix A:\n",
      "[[4 7]\n",
      " [4 3]]\n",
      "Matrix B:\n",
      "[[1 7]\n",
      " [4 3]]\n",
      "Element-wise product of matrices A and B:\n",
      "[[ 4 49]\n",
      " [16  9]]\n"
     ]
    }
   ],
   "execution_count": 13
  },
  {
   "metadata": {
    "ExecuteTime": {
     "end_time": "2025-02-22T12:20:23.285917Z",
     "start_time": "2025-02-22T12:20:23.283168Z"
    }
   },
   "cell_type": "code",
   "source": [
    "# Task 13: Create two additional 2x2 matrices with random integers from 1 to 10\n",
    "mat_c = np.random.randint(1, 11, size=(2, 2))\n",
    "mat_d = np.random.randint(1, 11, size=(2, 2))\n",
    "\n",
    "print(\"Matrix C:\")\n",
    "print(mat_c)\n",
    "print(\"Matrix D:\")\n",
    "print(mat_d)\n",
    "\n",
    "# Calculate the matrix product\n",
    "matrix_product = np.dot(mat_c, mat_d)\n",
    "print(\"Matrix product of matrices C and D:\")\n",
    "print(matrix_product)\n"
   ],
   "id": "ca142761a35f1cbe",
   "outputs": [
    {
     "name": "stdout",
     "output_type": "stream",
     "text": [
      "Matrix C:\n",
      "[[ 7  4]\n",
      " [10  1]]\n",
      "Matrix D:\n",
      "[[ 4 10]\n",
      " [ 2 10]]\n",
      "Matrix product of matrices C and D:\n",
      "[[ 36 110]\n",
      " [ 42 110]]\n"
     ]
    }
   ],
   "execution_count": 14
  },
  {
   "metadata": {
    "ExecuteTime": {
     "end_time": "2025-02-22T12:20:23.288735Z",
     "start_time": "2025-02-22T12:20:23.286645Z"
    }
   },
   "cell_type": "code",
   "source": [
    "# Task 14: Create a 5x5 matrix with random integers from 1 to 100\n",
    "matrix_5x5_100 = np.random.randint(1, 101, size=(5, 5))\n",
    "print(\"5x5 matrix with random integers from 1 to 100:\")\n",
    "print(matrix_5x5_100)\n",
    "\n",
    "# Calculate the sum of all elements in the matrix\n",
    "sum_elements = np.sum(matrix_5x5_100)\n",
    "print(\"Sum of the matrix elements:\")\n",
    "print(sum_elements)\n"
   ],
   "id": "adb2297dbc79a160",
   "outputs": [
    {
     "name": "stdout",
     "output_type": "stream",
     "text": [
      "5x5 matrix with random integers from 1 to 100:\n",
      "[[ 2 54 92 49 70]\n",
      " [43 98 26 76 68]\n",
      " [93  4 53 80 54]\n",
      " [39 63 22 80  3]\n",
      " [85 68 92 96 98]]\n",
      "Sum of the matrix elements:\n",
      "1508\n"
     ]
    }
   ],
   "execution_count": 15
  },
  {
   "metadata": {
    "ExecuteTime": {
     "end_time": "2025-02-22T12:20:23.291751Z",
     "start_time": "2025-02-22T12:20:23.289338Z"
    }
   },
   "cell_type": "code",
   "source": [
    "# Task 15: Create two 4x4 matrices with random integers from 1 to 10\n",
    "matrix_A = np.random.randint(1, 11, size=(4, 4))\n",
    "matrix_B = np.random.randint(1, 11, size=(4, 4))\n",
    "\n",
    "print(\"Matrix A (4x4):\")\n",
    "print(matrix_A)\n",
    "print(\"Matrix B (4x4):\")\n",
    "print(matrix_B)\n",
    "\n",
    "# Calculate the difference (Matrix A - Matrix B)\n",
    "difference = matrix_A - matrix_B\n",
    "print(\"Difference between matrices A and B:\")\n",
    "print(difference)\n"
   ],
   "id": "79e99af613cb6313",
   "outputs": [
    {
     "name": "stdout",
     "output_type": "stream",
     "text": [
      "Matrix A (4x4):\n",
      "[[9 8 6 9]\n",
      " [1 8 1 2]\n",
      " [6 6 5 8]\n",
      " [8 2 3 1]]\n",
      "Matrix B (4x4):\n",
      "[[10  5  1  9]\n",
      " [10 10  4 10]\n",
      " [ 5  5  7  3]\n",
      " [ 3  8  1  4]]\n",
      "Difference between matrices A and B:\n",
      "[[-1  3  5  0]\n",
      " [-9 -2 -3 -8]\n",
      " [ 1  1 -2  5]\n",
      " [ 5 -6  2 -3]]\n"
     ]
    }
   ],
   "execution_count": 16
  },
  {
   "metadata": {
    "ExecuteTime": {
     "end_time": "2025-02-22T12:20:23.294834Z",
     "start_time": "2025-02-22T12:20:23.292489Z"
    }
   },
   "cell_type": "code",
   "source": [
    "# Task 16: Create a 3x3 matrix with random floats from 0 to 1\n",
    "matrix_3x3_float = np.random.rand(3, 3)\n",
    "print(\"3x3 matrix with random floats:\")\n",
    "print(matrix_3x3_float)\n",
    "\n",
    "# Compute the sum of each row and reshape it to a column vector\n",
    "row_sums = np.sum(matrix_3x3_float, axis=1).reshape(-1, 1)\n",
    "print(\"Column vector with the sum of each row:\")\n",
    "print(row_sums)\n"
   ],
   "id": "8894210c96de2da4",
   "outputs": [
    {
     "name": "stdout",
     "output_type": "stream",
     "text": [
      "3x3 matrix with random floats:\n",
      "[[0.12459539 0.37966643 0.27726898]\n",
      " [0.98549256 0.18603872 0.65350303]\n",
      " [0.24687639 0.57159546 0.75924522]]\n",
      "Column vector with the sum of each row:\n",
      "[[0.7815308 ]\n",
      " [1.82503431]\n",
      " [1.57771707]]\n"
     ]
    }
   ],
   "execution_count": 17
  },
  {
   "metadata": {
    "ExecuteTime": {
     "end_time": "2025-02-22T12:20:23.297837Z",
     "start_time": "2025-02-22T12:20:23.295582Z"
    }
   },
   "cell_type": "code",
   "source": [
    "# Task 17: Create a 3x4 matrix with arbitrary integers (for example, from 1 to 20)\n",
    "matrix_3x4_int = np.random.randint(1, 21, size=(3, 4))\n",
    "print(\"3x4 matrix with arbitrary integers:\")\n",
    "print(matrix_3x4_int)\n",
    "\n",
    "# Create a matrix with the squares of each element\n",
    "squared_matrix = np.square(matrix_3x4_int)\n",
    "print(\"Matrix with squared elements:\")\n",
    "print(squared_matrix)\n"
   ],
   "id": "5cd7ee9c1319785d",
   "outputs": [
    {
     "name": "stdout",
     "output_type": "stream",
     "text": [
      "3x4 matrix with arbitrary integers:\n",
      "[[ 9  2  7 10]\n",
      " [ 7  5 17  6]\n",
      " [ 5  1  8 15]]\n",
      "Matrix with squared elements:\n",
      "[[ 81   4  49 100]\n",
      " [ 49  25 289  36]\n",
      " [ 25   1  64 225]]\n"
     ]
    }
   ],
   "execution_count": 18
  },
  {
   "metadata": {
    "ExecuteTime": {
     "end_time": "2025-02-22T12:20:23.300206Z",
     "start_time": "2025-02-22T12:20:23.298315Z"
    }
   },
   "cell_type": "code",
   "source": [
    "# Task 18: Create a vector of size 4 with random integers from 1 to 50\n",
    "vector_4_int = np.random.randint(1, 51, size=4)\n",
    "print(\"Vector with random integers from 1 to 50:\")\n",
    "print(vector_4_int)\n",
    "\n",
    "# Compute the vector of square roots of the elements\n",
    "sqrt_vector = np.sqrt(vector_4_int)\n",
    "print(\"Vector with the square roots of the numbers:\")\n",
    "print(sqrt_vector)\n"
   ],
   "id": "eca691f845f66def",
   "outputs": [
    {
     "name": "stdout",
     "output_type": "stream",
     "text": [
      "Vector with random integers from 1 to 50:\n",
      "[40 47 34 12]\n",
      "Vector with the square roots of the numbers:\n",
      "[6.32455532 6.8556546  5.83095189 3.46410162]\n"
     ]
    }
   ],
   "execution_count": 19
  }
 ],
 "metadata": {
  "kernelspec": {
   "display_name": "Python 3",
   "language": "python",
   "name": "python3"
  },
  "language_info": {
   "codemirror_mode": {
    "name": "ipython",
    "version": 2
   },
   "file_extension": ".py",
   "mimetype": "text/x-python",
   "name": "python",
   "nbconvert_exporter": "python",
   "pygments_lexer": "ipython2",
   "version": "2.7.6"
  }
 },
 "nbformat": 4,
 "nbformat_minor": 5
}
