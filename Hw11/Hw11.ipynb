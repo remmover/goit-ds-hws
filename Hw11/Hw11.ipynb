{
 "cells": [
  {
   "cell_type": "code",
   "execution_count": null,
   "id": "initial_id",
   "metadata": {
    "collapsed": true
   },
   "outputs": [],
   "source": [
    "import matplotlib.pyplot as plt\n",
    "from keras.datasets import imdb\n",
    "from keras.models import Sequential\n",
    "from keras.layers import SimpleRNN, LSTM, Dense, Embedding, Bidirectional, Dropout\n",
    "from tensorflow.keras.preprocessing.sequence import pad_sequences\n",
    "from keras.optimizers import Adam"
   ]
  },
  {
   "metadata": {},
   "cell_type": "code",
   "outputs": [],
   "execution_count": null,
   "source": [
    "# Завантаження даних\n",
    "max_features = 5000  # Кількість найпоширеніших слів для токенізації\n",
    "maxlen = 500  # Максимальна довжина кожної рецензії\n",
    "\n",
    "# Завантаження тренувальних та тестових даних\n",
    "(x_train, y_train), (x_test, y_test) = imdb.load_data(num_words=max_features)\n",
    "\n",
    "# Паддінг для забезпечення однакової довжини\n",
    "x_train = pad_sequences(x_train, maxlen=maxlen)\n",
    "x_test = pad_sequences(x_test, maxlen=maxlen)"
   ],
   "id": "f7a0e5f2e815b1ac"
  },
  {
   "metadata": {},
   "cell_type": "code",
   "outputs": [],
   "execution_count": null,
   "source": [
    "# Функція для створення та компіляції моделей\n",
    "def create_model(model_type='RNN', units=128, dropout_rate=0.2):\n",
    "    model = Sequential()\n",
    "    model.add(Embedding(input_dim=max_features, output_dim=128, input_length=maxlen))\n",
    "    \n",
    "    if model_type == 'RNN':\n",
    "        model.add(SimpleRNN(units, dropout=dropout_rate))\n",
    "    elif model_type == 'LSTM':\n",
    "        model.add(LSTM(units, dropout=dropout_rate))\n",
    "    elif model_type == 'Bidirectional':\n",
    "        model.add(Bidirectional(LSTM(units, dropout=dropout_rate)))\n",
    "    elif model_type == 'Deep LSTM':\n",
    "        model.add(LSTM(units, return_sequences=True, dropout=dropout_rate))\n",
    "        model.add(LSTM(units, dropout=dropout_rate))\n",
    "    \n",
    "    model.add(Dense(1, activation='sigmoid'))\n",
    "    \n",
    "    model.compile(loss='binary_crossentropy', optimizer=Adam(), metrics=['accuracy'])\n",
    "    \n",
    "    return model"
   ],
   "id": "20b51ad32eb253bd"
  },
  {
   "metadata": {},
   "cell_type": "code",
   "outputs": [],
   "execution_count": null,
   "source": [
    "# Створення моделей\n",
    "models = {\n",
    "    'RNN': create_model('RNN'),\n",
    "    'LSTM': create_model('LSTM'),\n",
    "    'Bidirectional': create_model('Bidirectional'),\n",
    "    'Deep LSTM': create_model('Deep LSTM')\n",
    "}"
   ],
   "id": "3d36f7a745fee200"
  },
  {
   "metadata": {},
   "cell_type": "code",
   "outputs": [],
   "execution_count": null,
   "source": [
    "# Навчання моделей\n",
    "history = {}\n",
    "for model_name, model in models.items():\n",
    "    print(f\"Training {model_name}...\")\n",
    "    history[model_name] = model.fit(x_train, y_train, epochs=5, batch_size=64, validation_data=(x_test, y_test))"
   ],
   "id": "f46b6da3f81eeb7e"
  },
  {
   "metadata": {},
   "cell_type": "code",
   "outputs": [],
   "execution_count": null,
   "source": [
    "# Побудова графіків\n",
    "plt.figure(figsize=(12, 6))\n",
    "\n",
    "# Графік залежності accuracy від епохи\n",
    "plt.subplot(1, 2, 1)\n",
    "for model_name, hist in history.items():\n",
    "    plt.plot(hist.history['accuracy'], label=f'{model_name} (train)')\n",
    "    plt.plot(hist.history['val_accuracy'], label=f'{model_name} (val)')\n",
    "plt.title('Accuracy vs Epochs')\n",
    "plt.xlabel('Epochs')\n",
    "plt.ylabel('Accuracy')\n",
    "plt.legend()\n",
    "\n",
    "# Графік залежності loss від епохи\n",
    "plt.subplot(1, 2, 2)\n",
    "for model_name, hist in history.items():\n",
    "    plt.plot(hist.history['loss'], label=f'{model_name} (train)')\n",
    "    plt.plot(hist.history['val_loss'], label=f'{model_name} (val)')\n",
    "plt.title('Loss vs Epochs')\n",
    "plt.xlabel('Epochs')\n",
    "plt.ylabel('Loss')\n",
    "plt.legend()\n",
    "\n",
    "plt.tight_layout()\n",
    "plt.show()"
   ],
   "id": "bc2abc2c39f33d7f"
  },
  {
   "metadata": {},
   "cell_type": "markdown",
   "source": [
    "Висновок\n",
    "LSTM показує найкращі результати на тренувальних даних із точністю 93.15%, також має найвищу точність на валідаційних даних (87.00%), \n",
    "що вказує на те, що ця модель найкраще узагальнює на нових даних. Також має найнижчі втрати на тренувальних даних (0.1811), що говорить \n",
    "про хорошу якість навчання.\n",
    "    \n",
    "Deep LSTM демонструє найгіршу валідаційну точність на останній епосі (68.40%), до чого можливо призводить перенавчання. \n",
    "Хоча точність на тренувальних даних висока (91.37%), але на валідаційних даних модель не працює добре.\n",
    "Вона може бути занадто складною для цієї задачі.\n",
    "\n",
    "Deep LSTM має високі коливання у втраті на валідаційних даних, що говоритьпро нестабільність в моделі.\n",
    "Bidirectional LSTM показує добрі результати, але трохи гірші за LSTM.\n",
    "\n",
    "Модель RNN є найменш ефективною серед цих чотирьох архітектур."
   ],
   "id": "35b44d6a4c40dfec"
  }
 ],
 "metadata": {
  "kernelspec": {
   "display_name": "Python 3",
   "language": "python",
   "name": "python3"
  },
  "language_info": {
   "codemirror_mode": {
    "name": "ipython",
    "version": 2
   },
   "file_extension": ".py",
   "mimetype": "text/x-python",
   "name": "python",
   "nbconvert_exporter": "python",
   "pygments_lexer": "ipython2",
   "version": "2.7.6"
  }
 },
 "nbformat": 4,
 "nbformat_minor": 5
}
