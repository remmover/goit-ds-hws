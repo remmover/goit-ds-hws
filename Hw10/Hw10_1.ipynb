{
 "cells": [
  {
   "metadata": {},
   "cell_type": "code",
   "outputs": [],
   "execution_count": null,
   "source": [
    "\n",
    "import tensorflow as tf\n",
    "from tensorflow.keras.models import Sequential\n",
    "from tensorflow.keras.layers import Dense, Conv2D, MaxPooling2D, Dropout, BatchNormalization, Flatten\n",
    "from tensorflow.keras.optimizers import Adam, SGD, RMSprop\n",
    "import matplotlib.pyplot as plt\n",
    "import numpy as np\n",
    "from tensorflow.keras.callbacks import EarlyStopping\n",
    "from tensorflow.keras.regularizers import l2"
   ],
   "id": "e7b5a70480bb969"
  },
  {
   "metadata": {},
   "cell_type": "code",
   "outputs": [],
   "execution_count": null,
   "source": [
    "# Завантажуємо Fashion MNIST\n",
    "(x_train, y_train), (x_test, y_test) = tf.keras.datasets.fashion_mnist.load_data()\n",
    "\n",
    "# Перетворюємо цілочисельні пікселі на тип float32\n",
    "x_train, x_test = np.array(x_train, np.float32), np.array(x_test, np.float32)\n",
    "\n",
    "# Переводимо x_train та x_test в правильну форму (28, 28, 1)\n",
    "x_train = x_train.reshape(-1, 28, 28, 1)  # (кількість_зображень, 28, 28, 1)\n",
    "x_test = x_test.reshape(-1, 28, 28, 1)\n",
    "# Масштабуємо зображення до [0, 1]\n",
    "# Нормалізуємо значення пікселів\n",
    "x_train = x_train / 255.0\n",
    "x_test = x_test / 255.0"
   ],
   "id": "31069c742e896608"
  },
  {
   "metadata": {},
   "cell_type": "code",
   "outputs": [],
   "execution_count": null,
   "source": [
    "model = Sequential([\n",
    "    # Згорткові шари\n",
    "    Conv2D(32, (3, 3), activation='relu', input_shape=(28, 28, 1)),\n",
    "    Conv2D(64, (3, 3), activation='relu'),\n",
    "    MaxPooling2D((2, 2)),\n",
    "    Dropout(0.25),\n",
    "\n",
    "    # Перетворюємо 2D дані в 1D (Flatten)\n",
    "    Flatten(),\n",
    "    \n",
    "    # Додаємо ще один Dense шар\n",
    "    Dense(128, activation='relu'),  \n",
    "    Dropout(0.5),  \n",
    "    \n",
    "    # Вихідний шар для 10 класів\n",
    "    Dense(10, activation='softmax')\n",
    "])\n",
    "model.summary() "
   ],
   "id": "41681c3eeb4fcec"
  },
  {
   "metadata": {},
   "cell_type": "code",
   "outputs": [],
   "execution_count": null,
   "source": [
    "# Компілюємо модель\n",
    "optimizer = Adam(learning_rate=0.001)\n",
    "model.compile(optimizer=optimizer, loss='sparse_categorical_crossentropy', metrics=['accuracy'])\n",
    "\n",
    "# Навчання моделі\n",
    "early_stopping = EarlyStopping(monitor='val_loss', patience=5, restore_best_weights=True)\n",
    "\n",
    "history = model.fit(x_train, y_train, epochs=15, batch_size=128, validation_data=(x_test, y_test), callbacks=[early_stopping])"
   ],
   "id": "280b1b7b81d85a90"
  },
  {
   "metadata": {},
   "cell_type": "code",
   "outputs": [],
   "execution_count": null,
   "source": [
    "# Візуалізація графіків точності\n",
    "plt.figure(figsize=(12, 6))\n",
    "\n",
    "# Графік точності\n",
    "plt.subplot(1, 2, 1)\n",
    "plt.plot(history.history['accuracy'], label='Точність (тренувальні дані)')\n",
    "plt.plot(history.history['val_accuracy'], label='Точність (тестові дані)')\n",
    "plt.title('Точність під час навчання')\n",
    "plt.xlabel('Епохи')\n",
    "plt.ylabel('Точність')\n",
    "plt.legend()\n",
    "\n",
    "# Графік втрат\n",
    "plt.subplot(1, 2, 2)\n",
    "plt.plot(history.history['loss'], label='Втрати (тренувальні дані)')\n",
    "plt.plot(history.history['val_loss'], label='Втрати (тестові дані)')\n",
    "plt.title('Втрати під час навчання')\n",
    "plt.xlabel('Епохи')\n",
    "plt.ylabel('Втрати')\n",
    "plt.legend()\n",
    "\n",
    "# Показуємо графіки\n",
    "plt.tight_layout()\n",
    "plt.show()"
   ],
   "id": "ce6a2c5c51972414"
  },
  {
   "metadata": {},
   "cell_type": "code",
   "outputs": [],
   "execution_count": null,
   "source": [
    "# Випадкові індекси для тестових зображень\n",
    "n_test = 15\n",
    "random_indices = np.random.choice(len(x_test), n_test, replace=False)\n",
    "\n",
    "# Передбачення для вибраних зображень\n",
    "predictions = model.predict(x_test[random_indices])\n",
    "\n",
    "# Назви класів для Fashion MNIST\n",
    "class_names = ['T-shirt/top', 'Trouser', 'Pullover', 'Dress', 'Coat', 'Sandal', 'Shirt', 'Sneaker', 'Bag', 'Ankle boot']\n",
    "\n",
    "# Змінна для підрахунку правильних прогнозів\n",
    "correct_predictions = 0\n",
    "\n",
    "# Виведення кожного зображення окремо\n",
    "n_lines = n_test // 5 + (1 if n_test % 5 != 0 else 0);\n",
    "plt.figure(figsize=(15, 5))\n",
    "for i, idx in enumerate(random_indices):\n",
    "    true_label = y_test[idx]  # Правильна відповідь\n",
    "    predicted_label = np.argmax(predictions[i])  # Прогноз моделі\n",
    "\n",
    "    # Якщо прогноз правильний, збільшуємо лічильник правильних прогнозів\n",
    "    if true_label == predicted_label:\n",
    "        correct_predictions += 1\n",
    "\n",
    "    # Виведення зображення з прогнозом та реальним класом\n",
    "    plt.subplot(n_lines, 5, i + 1)\n",
    "    plt.imshow(x_test[idx], cmap=plt.cm.binary)\n",
    "    plt.title(f\"Pred: {class_names[predicted_label]}\\nTrue: {class_names[true_label]}\")\n",
    "    plt.axis('off')\n",
    "\n",
    "plt.tight_layout()\n",
    "plt.show()\n",
    "\n",
    "\n",
    "# Обчислюємо відсоток правильних прогнозів\n",
    "accuracy = (correct_predictions / n_test) * 100\n",
    "print(f\"Кількість коректно розпізнаних зображень: {correct_predictions}/{n_test}\")\n",
    "print(f\"Процент правильних прогнозів: {accuracy:.2f}%\")"
   ],
   "id": "ea3ecc47796ec623"
  }
 ],
 "metadata": {
  "kernelspec": {
   "display_name": "Python 3",
   "language": "python",
   "name": "python3"
  },
  "language_info": {
   "codemirror_mode": {
    "name": "ipython",
    "version": 2
   },
   "file_extension": ".py",
   "mimetype": "text/x-python",
   "name": "python",
   "nbconvert_exporter": "python",
   "pygments_lexer": "ipython2",
   "version": "2.7.6"
  }
 },
 "nbformat": 4,
 "nbformat_minor": 5
}
