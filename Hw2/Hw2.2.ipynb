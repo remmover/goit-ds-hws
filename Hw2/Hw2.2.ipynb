{
 "cells": [
  {
   "cell_type": "code",
   "id": "initial_id",
   "metadata": {
    "collapsed": true
   },
   "source": [
    "\n",
    "import pandas as pd\n",
    "import matplotlib.pyplot as plt\n",
    "\n",
    "df = pd.read_csv('/goit-ds-hws/2017_jun_final - 2017_jun_final.csv')"
   ],
   "outputs": [],
   "execution_count": null
  },
  {
   "metadata": {},
   "cell_type": "code",
   "source": "df.head()\n",
   "id": "7bd11f4631c337c9",
   "outputs": [],
   "execution_count": null
  },
  {
   "metadata": {},
   "cell_type": "code",
   "source": "df.shape\n",
   "id": "ff8b7412997f4636",
   "outputs": [],
   "execution_count": null
  },
  {
   "metadata": {},
   "cell_type": "code",
   "source": "df.dtypes\n",
   "id": "ca6ca86a9f8a5bc1",
   "outputs": [],
   "execution_count": null
  },
  {
   "metadata": {},
   "cell_type": "code",
   "source": "df.isnull().sum()\n",
   "id": "34e14e58ca531a63",
   "outputs": [],
   "execution_count": null
  },
  {
   "metadata": {},
   "cell_type": "code",
   "source": [
    "columns = list(df.columns[df.isnull().any()])\n",
    "columns.remove('Мова програмування')\n",
    "df.drop(columns, axis=1, inplace=True)\n",
    "df.head()"
   ],
   "id": "3ae0f8d794336f69",
   "outputs": [],
   "execution_count": null
  },
  {
   "metadata": {},
   "cell_type": "code",
   "source": [
    "df.dropna(axis=1, inplace=True)\n",
    "df.head()"
   ],
   "id": "d79a72585a134262",
   "outputs": [],
   "execution_count": null
  },
  {
   "metadata": {},
   "cell_type": "code",
   "source": "df.shape",
   "id": "cbd8e9842e952dbe",
   "outputs": [],
   "execution_count": null
  },
  {
   "metadata": {},
   "cell_type": "code",
   "source": [
    "python_data = df[df['Мова програмування']=='Python']\n",
    "python_data.head()"
   ],
   "id": "7ac39f42d869554b",
   "outputs": [],
   "execution_count": null
  },
  {
   "metadata": {},
   "cell_type": "code",
   "source": "python_data.shape",
   "id": "f7f8bc4d8e6b1a12",
   "outputs": [],
   "execution_count": null
  },
  {
   "metadata": {},
   "cell_type": "code",
   "source": [
    "grouped_df=df.groupby(['Посада'])\n",
    "grouped_df"
   ],
   "id": "65745174b6b24c07",
   "outputs": [],
   "execution_count": null
  },
  {
   "metadata": {},
   "cell_type": "code",
   "source": [
    "gdf = grouped_df['Зарплата на місяць'].agg(['min', 'max'])\n",
    "gdf"
   ],
   "id": "45dd2c455083ccf4",
   "outputs": [],
   "execution_count": null
  },
  {
   "metadata": {},
   "cell_type": "code",
   "source": [
    "merged_df = pd.merge(df, gdf, on='Посада')\n",
    "\n",
    "def fill_avg_salary(row):\n",
    "    avg_salary = (row['min'] + row['max']) / 2\n",
    "    return avg_salary\n",
    "merged_df['avg'] = merged_df.apply(fill_avg_salary, axis=1)\n",
    "df['avg'] = merged_df['avg']\n",
    "df.head()"
   ],
   "id": "62172eb734fa2463",
   "outputs": [],
   "execution_count": null
  },
  {
   "metadata": {},
   "cell_type": "code",
   "source": "df['avg'].describe()",
   "id": "92546ffae300d0df",
   "outputs": [],
   "execution_count": null
  },
  {
   "metadata": {},
   "cell_type": "code",
   "source": "df.to_csv('needed_table.csv')",
   "id": "b4cee81f963498f",
   "outputs": [],
   "execution_count": null
  }
 ],
 "metadata": {
  "kernelspec": {
   "display_name": "Python 3",
   "language": "python",
   "name": "python3"
  },
  "language_info": {
   "codemirror_mode": {
    "name": "ipython",
    "version": 2
   },
   "file_extension": ".py",
   "mimetype": "text/x-python",
   "name": "python",
   "nbconvert_exporter": "python",
   "pygments_lexer": "ipython2",
   "version": "2.7.6"
  }
 },
 "nbformat": 4,
 "nbformat_minor": 5
}
